{
 "cells": [
  {
   "cell_type": "markdown",
   "metadata": {},
   "source": [
    "# A Comprehensive Guide to Data Processing with Sketch for Pandas Dataframes"
   ]
  },
  {
   "cell_type": "code",
   "execution_count": 1,
   "metadata": {},
   "outputs": [
    {
     "name": "stdout",
     "output_type": "stream",
     "text": [
      "\n",
      "\u001b[1m[\u001b[0m\u001b[34;49mnotice\u001b[0m\u001b[1;39;49m]\u001b[0m\u001b[39;49m A new release of pip is available: \u001b[0m\u001b[31;49m23.1.2\u001b[0m\u001b[39;49m -> \u001b[0m\u001b[32;49m23.2.1\u001b[0m\n",
      "\u001b[1m[\u001b[0m\u001b[34;49mnotice\u001b[0m\u001b[1;39;49m]\u001b[0m\u001b[39;49m To update, run: \u001b[0m\u001b[32;49mpip3 install --upgrade pip\u001b[0m\n"
     ]
    }
   ],
   "source": [
    "# Install Library \n",
    "!pip3 install sketch -q"
   ]
  },
  {
   "cell_type": "code",
   "execution_count": 2,
   "metadata": {},
   "outputs": [],
   "source": [
    "# Import Library \n",
    "import sketch as sketch\n",
    "import pandas as pd"
   ]
  },
  {
   "cell_type": "markdown",
   "metadata": {},
   "source": [
    "To illustrate how to use Sketch, we will demonstrate an EDA using [Most Streamed Spotify Songs 2023](https://www.kaggle.com/datasets/nelgiriyewithana/top-spotify-songs-2023/data)"
   ]
  },
  {
   "cell_type": "code",
   "execution_count": 3,
   "metadata": {},
   "outputs": [
    {
     "data": {
      "text/html": [
       "<div>\n",
       "<style scoped>\n",
       "    .dataframe tbody tr th:only-of-type {\n",
       "        vertical-align: middle;\n",
       "    }\n",
       "\n",
       "    .dataframe tbody tr th {\n",
       "        vertical-align: top;\n",
       "    }\n",
       "\n",
       "    .dataframe thead th {\n",
       "        text-align: right;\n",
       "    }\n",
       "</style>\n",
       "<table border=\"1\" class=\"dataframe\">\n",
       "  <thead>\n",
       "    <tr style=\"text-align: right;\">\n",
       "      <th></th>\n",
       "      <th>Unnamed: 0</th>\n",
       "      <th>track_name</th>\n",
       "      <th>artist(s)_name</th>\n",
       "      <th>artist_count</th>\n",
       "      <th>released_year</th>\n",
       "      <th>released_month</th>\n",
       "      <th>released_day</th>\n",
       "      <th>in_spotify_playlists</th>\n",
       "      <th>in_spotify_charts</th>\n",
       "      <th>streams</th>\n",
       "      <th>...</th>\n",
       "      <th>bpm</th>\n",
       "      <th>key</th>\n",
       "      <th>mode</th>\n",
       "      <th>danceability_%</th>\n",
       "      <th>valence_%</th>\n",
       "      <th>energy_%</th>\n",
       "      <th>acousticness_%</th>\n",
       "      <th>instrumentalness_%</th>\n",
       "      <th>liveness_%</th>\n",
       "      <th>speechiness_%</th>\n",
       "    </tr>\n",
       "  </thead>\n",
       "  <tbody>\n",
       "    <tr>\n",
       "      <th>0</th>\n",
       "      <td>0</td>\n",
       "      <td>Seven (feat. Latto) (Explicit Ver.)</td>\n",
       "      <td>Latto, Jung Kook</td>\n",
       "      <td>2</td>\n",
       "      <td>2023</td>\n",
       "      <td>7</td>\n",
       "      <td>14</td>\n",
       "      <td>553</td>\n",
       "      <td>147</td>\n",
       "      <td>141381703</td>\n",
       "      <td>...</td>\n",
       "      <td>125</td>\n",
       "      <td>B</td>\n",
       "      <td>Major</td>\n",
       "      <td>80</td>\n",
       "      <td>89</td>\n",
       "      <td>83</td>\n",
       "      <td>31</td>\n",
       "      <td>0</td>\n",
       "      <td>8</td>\n",
       "      <td>4</td>\n",
       "    </tr>\n",
       "    <tr>\n",
       "      <th>1</th>\n",
       "      <td>1</td>\n",
       "      <td>LALA</td>\n",
       "      <td>Myke Towers</td>\n",
       "      <td>1</td>\n",
       "      <td>2023</td>\n",
       "      <td>3</td>\n",
       "      <td>23</td>\n",
       "      <td>1474</td>\n",
       "      <td>48</td>\n",
       "      <td>133716286</td>\n",
       "      <td>...</td>\n",
       "      <td>92</td>\n",
       "      <td>C#</td>\n",
       "      <td>Major</td>\n",
       "      <td>71</td>\n",
       "      <td>61</td>\n",
       "      <td>74</td>\n",
       "      <td>7</td>\n",
       "      <td>0</td>\n",
       "      <td>10</td>\n",
       "      <td>4</td>\n",
       "    </tr>\n",
       "    <tr>\n",
       "      <th>2</th>\n",
       "      <td>2</td>\n",
       "      <td>vampire</td>\n",
       "      <td>Olivia Rodrigo</td>\n",
       "      <td>1</td>\n",
       "      <td>2023</td>\n",
       "      <td>6</td>\n",
       "      <td>30</td>\n",
       "      <td>1397</td>\n",
       "      <td>113</td>\n",
       "      <td>140003974</td>\n",
       "      <td>...</td>\n",
       "      <td>138</td>\n",
       "      <td>F</td>\n",
       "      <td>Major</td>\n",
       "      <td>51</td>\n",
       "      <td>32</td>\n",
       "      <td>53</td>\n",
       "      <td>17</td>\n",
       "      <td>0</td>\n",
       "      <td>31</td>\n",
       "      <td>6</td>\n",
       "    </tr>\n",
       "    <tr>\n",
       "      <th>3</th>\n",
       "      <td>3</td>\n",
       "      <td>Cruel Summer</td>\n",
       "      <td>Taylor Swift</td>\n",
       "      <td>1</td>\n",
       "      <td>2019</td>\n",
       "      <td>8</td>\n",
       "      <td>23</td>\n",
       "      <td>7858</td>\n",
       "      <td>100</td>\n",
       "      <td>800840817</td>\n",
       "      <td>...</td>\n",
       "      <td>170</td>\n",
       "      <td>A</td>\n",
       "      <td>Major</td>\n",
       "      <td>55</td>\n",
       "      <td>58</td>\n",
       "      <td>72</td>\n",
       "      <td>11</td>\n",
       "      <td>0</td>\n",
       "      <td>11</td>\n",
       "      <td>15</td>\n",
       "    </tr>\n",
       "    <tr>\n",
       "      <th>4</th>\n",
       "      <td>4</td>\n",
       "      <td>WHERE SHE GOES</td>\n",
       "      <td>Bad Bunny</td>\n",
       "      <td>1</td>\n",
       "      <td>2023</td>\n",
       "      <td>5</td>\n",
       "      <td>18</td>\n",
       "      <td>3133</td>\n",
       "      <td>50</td>\n",
       "      <td>303236322</td>\n",
       "      <td>...</td>\n",
       "      <td>144</td>\n",
       "      <td>A</td>\n",
       "      <td>Minor</td>\n",
       "      <td>65</td>\n",
       "      <td>23</td>\n",
       "      <td>80</td>\n",
       "      <td>14</td>\n",
       "      <td>63</td>\n",
       "      <td>11</td>\n",
       "      <td>6</td>\n",
       "    </tr>\n",
       "    <tr>\n",
       "      <th>...</th>\n",
       "      <td>...</td>\n",
       "      <td>...</td>\n",
       "      <td>...</td>\n",
       "      <td>...</td>\n",
       "      <td>...</td>\n",
       "      <td>...</td>\n",
       "      <td>...</td>\n",
       "      <td>...</td>\n",
       "      <td>...</td>\n",
       "      <td>...</td>\n",
       "      <td>...</td>\n",
       "      <td>...</td>\n",
       "      <td>...</td>\n",
       "      <td>...</td>\n",
       "      <td>...</td>\n",
       "      <td>...</td>\n",
       "      <td>...</td>\n",
       "      <td>...</td>\n",
       "      <td>...</td>\n",
       "      <td>...</td>\n",
       "      <td>...</td>\n",
       "    </tr>\n",
       "    <tr>\n",
       "      <th>811</th>\n",
       "      <td>948</td>\n",
       "      <td>My Mind &amp; Me</td>\n",
       "      <td>Selena Gomez</td>\n",
       "      <td>1</td>\n",
       "      <td>2022</td>\n",
       "      <td>11</td>\n",
       "      <td>3</td>\n",
       "      <td>953</td>\n",
       "      <td>0</td>\n",
       "      <td>91473363</td>\n",
       "      <td>...</td>\n",
       "      <td>144</td>\n",
       "      <td>A</td>\n",
       "      <td>Major</td>\n",
       "      <td>60</td>\n",
       "      <td>24</td>\n",
       "      <td>39</td>\n",
       "      <td>57</td>\n",
       "      <td>0</td>\n",
       "      <td>8</td>\n",
       "      <td>3</td>\n",
       "    </tr>\n",
       "    <tr>\n",
       "      <th>812</th>\n",
       "      <td>949</td>\n",
       "      <td>Bigger Than The Whole Sky</td>\n",
       "      <td>Taylor Swift</td>\n",
       "      <td>1</td>\n",
       "      <td>2022</td>\n",
       "      <td>10</td>\n",
       "      <td>21</td>\n",
       "      <td>1180</td>\n",
       "      <td>0</td>\n",
       "      <td>121871870</td>\n",
       "      <td>...</td>\n",
       "      <td>166</td>\n",
       "      <td>F#</td>\n",
       "      <td>Major</td>\n",
       "      <td>42</td>\n",
       "      <td>7</td>\n",
       "      <td>24</td>\n",
       "      <td>83</td>\n",
       "      <td>1</td>\n",
       "      <td>12</td>\n",
       "      <td>6</td>\n",
       "    </tr>\n",
       "    <tr>\n",
       "      <th>813</th>\n",
       "      <td>950</td>\n",
       "      <td>A Veces (feat. Feid)</td>\n",
       "      <td>Feid, Paulo Londra</td>\n",
       "      <td>2</td>\n",
       "      <td>2022</td>\n",
       "      <td>11</td>\n",
       "      <td>3</td>\n",
       "      <td>573</td>\n",
       "      <td>0</td>\n",
       "      <td>73513683</td>\n",
       "      <td>...</td>\n",
       "      <td>92</td>\n",
       "      <td>C#</td>\n",
       "      <td>Major</td>\n",
       "      <td>80</td>\n",
       "      <td>81</td>\n",
       "      <td>67</td>\n",
       "      <td>4</td>\n",
       "      <td>0</td>\n",
       "      <td>8</td>\n",
       "      <td>6</td>\n",
       "    </tr>\n",
       "    <tr>\n",
       "      <th>814</th>\n",
       "      <td>951</td>\n",
       "      <td>En La De Ella</td>\n",
       "      <td>Feid, Sech, Jhayco</td>\n",
       "      <td>3</td>\n",
       "      <td>2022</td>\n",
       "      <td>10</td>\n",
       "      <td>20</td>\n",
       "      <td>1320</td>\n",
       "      <td>0</td>\n",
       "      <td>133895612</td>\n",
       "      <td>...</td>\n",
       "      <td>97</td>\n",
       "      <td>C#</td>\n",
       "      <td>Major</td>\n",
       "      <td>82</td>\n",
       "      <td>67</td>\n",
       "      <td>77</td>\n",
       "      <td>8</td>\n",
       "      <td>0</td>\n",
       "      <td>12</td>\n",
       "      <td>5</td>\n",
       "    </tr>\n",
       "    <tr>\n",
       "      <th>815</th>\n",
       "      <td>952</td>\n",
       "      <td>Alone</td>\n",
       "      <td>Burna Boy</td>\n",
       "      <td>1</td>\n",
       "      <td>2022</td>\n",
       "      <td>11</td>\n",
       "      <td>4</td>\n",
       "      <td>782</td>\n",
       "      <td>2</td>\n",
       "      <td>96007391</td>\n",
       "      <td>...</td>\n",
       "      <td>90</td>\n",
       "      <td>E</td>\n",
       "      <td>Minor</td>\n",
       "      <td>61</td>\n",
       "      <td>32</td>\n",
       "      <td>67</td>\n",
       "      <td>15</td>\n",
       "      <td>0</td>\n",
       "      <td>11</td>\n",
       "      <td>5</td>\n",
       "    </tr>\n",
       "  </tbody>\n",
       "</table>\n",
       "<p>816 rows × 25 columns</p>\n",
       "</div>"
      ],
      "text/plain": [
       "     Unnamed: 0                           track_name      artist(s)_name  \\\n",
       "0             0  Seven (feat. Latto) (Explicit Ver.)    Latto, Jung Kook   \n",
       "1             1                                 LALA         Myke Towers   \n",
       "2             2                              vampire      Olivia Rodrigo   \n",
       "3             3                         Cruel Summer        Taylor Swift   \n",
       "4             4                       WHERE SHE GOES           Bad Bunny   \n",
       "..          ...                                  ...                 ...   \n",
       "811         948                         My Mind & Me        Selena Gomez   \n",
       "812         949            Bigger Than The Whole Sky        Taylor Swift   \n",
       "813         950                 A Veces (feat. Feid)  Feid, Paulo Londra   \n",
       "814         951                        En La De Ella  Feid, Sech, Jhayco   \n",
       "815         952                                Alone           Burna Boy   \n",
       "\n",
       "     artist_count  released_year  released_month  released_day  \\\n",
       "0               2           2023               7            14   \n",
       "1               1           2023               3            23   \n",
       "2               1           2023               6            30   \n",
       "3               1           2019               8            23   \n",
       "4               1           2023               5            18   \n",
       "..            ...            ...             ...           ...   \n",
       "811             1           2022              11             3   \n",
       "812             1           2022              10            21   \n",
       "813             2           2022              11             3   \n",
       "814             3           2022              10            20   \n",
       "815             1           2022              11             4   \n",
       "\n",
       "     in_spotify_playlists  in_spotify_charts    streams  ...  bpm  key   mode  \\\n",
       "0                     553                147  141381703  ...  125    B  Major   \n",
       "1                    1474                 48  133716286  ...   92   C#  Major   \n",
       "2                    1397                113  140003974  ...  138    F  Major   \n",
       "3                    7858                100  800840817  ...  170    A  Major   \n",
       "4                    3133                 50  303236322  ...  144    A  Minor   \n",
       "..                    ...                ...        ...  ...  ...  ...    ...   \n",
       "811                   953                  0   91473363  ...  144    A  Major   \n",
       "812                  1180                  0  121871870  ...  166   F#  Major   \n",
       "813                   573                  0   73513683  ...   92   C#  Major   \n",
       "814                  1320                  0  133895612  ...   97   C#  Major   \n",
       "815                   782                  2   96007391  ...   90    E  Minor   \n",
       "\n",
       "     danceability_%  valence_%  energy_% acousticness_% instrumentalness_%  \\\n",
       "0                80         89        83             31                  0   \n",
       "1                71         61        74              7                  0   \n",
       "2                51         32        53             17                  0   \n",
       "3                55         58        72             11                  0   \n",
       "4                65         23        80             14                 63   \n",
       "..              ...        ...       ...            ...                ...   \n",
       "811              60         24        39             57                  0   \n",
       "812              42          7        24             83                  1   \n",
       "813              80         81        67              4                  0   \n",
       "814              82         67        77              8                  0   \n",
       "815              61         32        67             15                  0   \n",
       "\n",
       "     liveness_%  speechiness_%  \n",
       "0             8              4  \n",
       "1            10              4  \n",
       "2            31              6  \n",
       "3            11             15  \n",
       "4            11              6  \n",
       "..          ...            ...  \n",
       "811           8              3  \n",
       "812          12              6  \n",
       "813           8              6  \n",
       "814          12              5  \n",
       "815          11              5  \n",
       "\n",
       "[816 rows x 25 columns]"
      ]
     },
     "execution_count": 3,
     "metadata": {},
     "output_type": "execute_result"
    }
   ],
   "source": [
    "# Load Data\n",
    "df = pd.read_csv('SpotifyEdit.csv')\n",
    "df"
   ]
  },
  {
   "cell_type": "code",
   "execution_count": 4,
   "metadata": {},
   "outputs": [],
   "source": [
    "# Settings Max Columns \n",
    "import os\n",
    "os.environ['SKETCH_MAX_COLUMNS'] = '50'  # or any value greater than the number of columns in your dataset"
   ]
  },
  {
   "cell_type": "code",
   "execution_count": 5,
   "metadata": {},
   "outputs": [
    {
     "data": {
      "text/plain": [
       "<sketch.pandas_extension.SketchHelper at 0x11ad35810>"
      ]
     },
     "execution_count": 5,
     "metadata": {},
     "output_type": "execute_result"
    }
   ],
   "source": [
    "# Load .sketch to Dataframe\n",
    "df.sketch"
   ]
  },
  {
   "cell_type": "markdown",
   "metadata": {},
   "source": [
    "### Code Implementation: .sketch.ask "
   ]
  },
  {
   "cell_type": "code",
   "execution_count": 6,
   "metadata": {},
   "outputs": [
    {
     "data": {
      "text/html": [
       "\n",
       "This dataset contains information about 816 songs, including track name, artist(s) name, release year, month, and day, number of streams, number of playlists and charts in Spotify, Apple Music, Deezer, and Shazam, BPM, key, mode, danceability, valence, energy, acousticness, instrumentalness, liveness, and speechiness."
      ],
      "text/plain": [
       "<IPython.core.display.HTML object>"
      ]
     },
     "metadata": {},
     "output_type": "display_data"
    }
   ],
   "source": [
    "# Ask context of dataset\n",
    "df.sketch.ask(\"what is the dataset about?\")"
   ]
  },
  {
   "cell_type": "code",
   "execution_count": 7,
   "metadata": {},
   "outputs": [
    {
     "data": {
      "text/html": [
       "\n",
       "The dataset has 816 rows and 18 columns."
      ],
      "text/plain": [
       "<IPython.core.display.HTML object>"
      ]
     },
     "metadata": {},
     "output_type": "display_data"
    }
   ],
   "source": [
    "# Ask shape of dataset\n",
    "df.sketch.ask(\"What is the shape of the dataset?\")"
   ]
  },
  {
   "cell_type": "code",
   "execution_count": 8,
   "metadata": {},
   "outputs": [
    {
     "data": {
      "text/html": [
       "\n",
       "<ul>\n",
       "  <li>index: int64</li>\n",
       "  <li>Unnamed: 0: int64</li>\n",
       "  <li>track_name: object</li>\n",
       "  <li>artist(s)_name: object</li>\n",
       "  <li>artist_count: int64</li>\n",
       "  <li>released_year: int64</li>\n",
       "  <li>released_month: int64</li>\n",
       "  <li>released_day: int64</li>\n",
       "  <li>in_spotify_playlists: int64</li>\n",
       "  <li>in_spotify_charts: int64</li>\n",
       "  <li>streams: int64</li>\n",
       "  <li>in_apple_playlists: int64</li>\n",
       "  <li>in_apple_charts: int64</li>\n",
       "  <li>in_deezer_playlists: int64</li>\n",
       "  <li>in_deezer_charts: int64</li>\n",
       "  <li>in_shazam_charts: int64</li>\n",
       "  <li>bpm: int64</li>\n",
       "  <li>key: object</li>\n",
       "  <li>mode: object</li>\n",
       "  <li>danceability_%: int64</li>\n",
       "  <li>valence_%: int64</li>\n",
       "  <li>energy_%: int64</li>\n",
       "  <li>acousticness_%: int64</li>\n",
       "  <li>instrumentalness_%: int64</li>\n",
       "  <li>liveness_%: int64</li>\n",
       "  <li>speechiness_%: int64</"
      ],
      "text/plain": [
       "<IPython.core.display.HTML object>"
      ]
     },
     "metadata": {},
     "output_type": "display_data"
    }
   ],
   "source": [
    "# Ask data types in dataset \n",
    "df.sketch.ask(\"What is the data types of each column in the dataset? (format output as HTML List)\")"
   ]
  },
  {
   "cell_type": "code",
   "execution_count": 9,
   "metadata": {},
   "outputs": [
    {
     "data": {
      "text/html": [
       "\n",
       "track_name, artist(s)_name, artist_count, released_year, released_month, released_day, in_spotify_playlists, in_spotify_charts, streams, in_apple_playlists\n",
       "``"
      ],
      "text/plain": [
       "<IPython.core.display.HTML object>"
      ]
     },
     "metadata": {},
     "output_type": "display_data"
    }
   ],
   "source": [
    "# Ask important columns\n",
    "df.sketch.ask(\"What are the important columns for data analysis? Give me 10 columns\")"
   ]
  },
  {
   "cell_type": "code",
   "execution_count": 10,
   "metadata": {},
   "outputs": [
    {
     "data": {
      "text/html": [
       "\n",
       "1. Analyze the correlation between the number of streams and the number of playlists/charts a song is in.\n",
       "2. Analyze the correlation between the released year/month/day and the number of streams.\n",
       "3. Analyze the correlation between the danceability, valence, energy, acousticness, instrumentalness, liveness and speechiness percentages and the number of streams.\n",
       "4. Analyze the correlation between the BPM and key/mode and the number of streams.\n",
       "5. Analyze the correlation between artist count and the number of streams.\n"
      ],
      "text/plain": [
       "<IPython.core.display.HTML object>"
      ]
     },
     "metadata": {},
     "output_type": "display_data"
    }
   ],
   "source": [
    "# Ask interesting analysis based on dataset\n",
    "df.sketch.ask(\"What interesting analysis could we perform? give me 5 points\")"
   ]
  },
  {
   "cell_type": "code",
   "execution_count": 11,
   "metadata": {},
   "outputs": [
    {
     "data": {
      "text/html": [
       "\n",
       "This dataset provides insights into the popularity of songs across different streaming platforms, as well as information about the artists, release dates, and musical characteristics of the songs. It can be used to identify trends in music popularity, compare different artists and genres, and analyze the impact of release dates on song popularity. Additionally, it can be used to gain insights into the musical characteristics that make a song popular."
      ],
      "text/plain": [
       "<IPython.core.display.HTML object>"
      ]
     },
     "metadata": {},
     "output_type": "display_data"
    }
   ],
   "source": [
    "# Ask insights gained from dataset \n",
    "df.sketch.ask(\"What insights can be gained from this dataset?\")"
   ]
  },
  {
   "cell_type": "code",
   "execution_count": 14,
   "metadata": {},
   "outputs": [
    {
     "data": {
      "text/html": [
       "\n",
       "The famous track of Taylor Swift is \"Cruel Summer\".\n"
      ],
      "text/plain": [
       "<IPython.core.display.HTML object>"
      ]
     },
     "metadata": {},
     "output_type": "display_data"
    }
   ],
   "source": [
    "# Ask information inside the dataset\n",
    "df.sketch.ask(\"What is the famous track of Taylor Swift?\")"
   ]
  },
  {
   "cell_type": "code",
   "execution_count": 12,
   "metadata": {},
   "outputs": [
    {
     "data": {
      "text/html": [
       "\n",
       "Cruel Summer by Taylor Swift was released in August 2019."
      ],
      "text/plain": [
       "<IPython.core.display.HTML object>"
      ]
     },
     "metadata": {},
     "output_type": "display_data"
    }
   ],
   "source": [
    "# Ask information inside the dataset\n",
    "df.sketch.ask(\"When is 'Cruel Summer' by Taylor Swift released?\")"
   ]
  },
  {
   "cell_type": "code",
   "execution_count": 13,
   "metadata": {},
   "outputs": [
    {
     "data": {
      "text/html": [
       "\n",
       "The total streams of 'Cruel Summer' by Taylor Swift is 800840817.\n"
      ],
      "text/plain": [
       "<IPython.core.display.HTML object>"
      ]
     },
     "metadata": {},
     "output_type": "display_data"
    }
   ],
   "source": [
    "# Ask information inside the dataset\n",
    "df.sketch.ask(\"What is the total streams of 'Cruel Summer' by Taylor Swift?\") "
   ]
  },
  {
   "cell_type": "code",
   "execution_count": 15,
   "metadata": {},
   "outputs": [
    {
     "data": {
      "text/html": [
       "\n",
       "Ed Sheeran's famous track is \"Shape of You\"."
      ],
      "text/plain": [
       "<IPython.core.display.HTML object>"
      ]
     },
     "metadata": {},
     "output_type": "display_data"
    }
   ],
   "source": [
    "# Ask information inside the dataset\n",
    "df.sketch.ask(\"What is the famous track of Ed Sheeran?\")"
   ]
  },
  {
   "cell_type": "code",
   "execution_count": 16,
   "metadata": {},
   "outputs": [
    {
     "data": {
      "text/html": [
       "\n",
       "The average streams is approximately 2.6 billion."
      ],
      "text/plain": [
       "<IPython.core.display.HTML object>"
      ]
     },
     "metadata": {},
     "output_type": "display_data"
    }
   ],
   "source": [
    "# Ask average streams\n",
    "df.sketch.ask(\"What is the average streams?\")"
   ]
  },
  {
   "cell_type": "code",
   "execution_count": 17,
   "metadata": {},
   "outputs": [
    {
     "data": {
      "text/html": [
       "\n",
       "There are 46 track_name released in 2023.\n"
      ],
      "text/plain": [
       "<IPython.core.display.HTML object>"
      ]
     },
     "metadata": {},
     "output_type": "display_data"
    }
   ],
   "source": [
    "# Ask information inside the dataset\n",
    "df.sketch.ask(\"How many track_name released in 2023?\")"
   ]
  },
  {
   "cell_type": "markdown",
   "metadata": {},
   "source": [
    "### Code Implementation: .sketch.howto"
   ]
  },
  {
   "cell_type": "code",
   "execution_count": 18,
   "metadata": {},
   "outputs": [
    {
     "data": {
      "text/html": [
       "<div style=\"display:flex;flex-direction:row;justify-content:space-between;\">\n",
       "                <pre style=\"width: 100%; white-space: pre-wrap;\" id=\"9677dd57-1a8c-491b-b571-77f058f6e724\">\n",
       "import matplotlib.pyplot as plt\n",
       "\n",
       "# Get the data from the dataframe\n",
       "x = df['artist_count']\n",
       "y = df['in_spotify_charts']\n",
       "\n",
       "# Plot the data\n",
       "plt.scatter(x, y)\n",
       "plt.xlabel('Number of Artists')\n",
       "plt.ylabel('Popularity (in Spotify Charts)')\n",
       "plt.title('Relation between Number of Artists and Popularity')\n",
       "plt.show()\n",
       "</pre>\n",
       "                <button style=\"height: fit-content;\" onclick=\"navigator.clipboard.writeText(JSON.parse(atob(`IlxuaW1wb3J0IG1hdHBsb3RsaWIucHlwbG90IGFzIHBsdFxuXG4jIEdldCB0aGUgZGF0YSBmcm9tIHRoZSBkYXRhZnJhbWVcbnggPSBkZlsnYXJ0aXN0X2NvdW50J11cbnkgPSBkZlsnaW5fc3BvdGlmeV9jaGFydHMnXVxuXG4jIFBsb3QgdGhlIGRhdGFcbnBsdC5zY2F0dGVyKHgsIHkpXG5wbHQueGxhYmVsKCdOdW1iZXIgb2YgQXJ0aXN0cycpXG5wbHQueWxhYmVsKCdQb3B1bGFyaXR5IChpbiBTcG90aWZ5IENoYXJ0cyknKVxucGx0LnRpdGxlKCdSZWxhdGlvbiBiZXR3ZWVuIE51bWJlciBvZiBBcnRpc3RzIGFuZCBQb3B1bGFyaXR5JylcbnBsdC5zaG93KClcbiI=`)))\">Copy</button>\n",
       "                </div>"
      ],
      "text/plain": [
       "<IPython.core.display.HTML object>"
      ]
     },
     "metadata": {},
     "output_type": "display_data"
    }
   ],
   "source": [
    "# How to plot between artist_count and in_spotify_charts\n",
    "df.sketch.howto(\"How to plot the relation between the number of artists (artist_count) and the popularity of the track ('in_spotify_charts')?\")"
   ]
  },
  {
   "cell_type": "code",
   "execution_count": 19,
   "metadata": {},
   "outputs": [
    {
     "data": {
      "text/html": [
       "<div style=\"display:flex;flex-direction:row;justify-content:space-between;\">\n",
       "                <pre style=\"width: 100%; white-space: pre-wrap;\" id=\"f70ab740-e8e7-4e2d-813d-fe5b990f2112\">\n",
       "# Calculate the correlation between streams and playlists/charts\n",
       "corr = df['streams'].corr(df['in_spotify_playlists'] + df['in_spotify_charts'] + df['in_apple_playlists'] + df['in_apple_charts'] + df['in_deezer_playlists'] + df['in_deezer_charts'] + df['in_shazam_charts'])\n",
       "\n",
       "# Print the correlation\n",
       "print(corr)\n",
       "</pre>\n",
       "                <button style=\"height: fit-content;\" onclick=\"navigator.clipboard.writeText(JSON.parse(atob(`IlxuIyBDYWxjdWxhdGUgdGhlIGNvcnJlbGF0aW9uIGJldHdlZW4gc3RyZWFtcyBhbmQgcGxheWxpc3RzL2NoYXJ0c1xuY29yciA9IGRmWydzdHJlYW1zJ10uY29ycihkZlsnaW5fc3BvdGlmeV9wbGF5bGlzdHMnXSArIGRmWydpbl9zcG90aWZ5X2NoYXJ0cyddICsgZGZbJ2luX2FwcGxlX3BsYXlsaXN0cyddICsgZGZbJ2luX2FwcGxlX2NoYXJ0cyddICsgZGZbJ2luX2RlZXplcl9wbGF5bGlzdHMnXSArIGRmWydpbl9kZWV6ZXJfY2hhcnRzJ10gKyBkZlsnaW5fc2hhemFtX2NoYXJ0cyddKVxuXG4jIFByaW50IHRoZSBjb3JyZWxhdGlvblxucHJpbnQoY29ycilcbiI=`)))\">Copy</button>\n",
       "                </div>"
      ],
      "text/plain": [
       "<IPython.core.display.HTML object>"
      ]
     },
     "metadata": {},
     "output_type": "display_data"
    }
   ],
   "source": [
    "# How to plot between number of streams and playlists/charts\n",
    "df.sketch.howto(\"Analyze the correlation between the number of streams and the number of playlists/charts a song is in\")"
   ]
  },
  {
   "cell_type": "code",
   "execution_count": 20,
   "metadata": {},
   "outputs": [
    {
     "data": {
      "text/html": [
       "<div style=\"display:flex;flex-direction:row;justify-content:space-between;\">\n",
       "                <pre style=\"width: 100%; white-space: pre-wrap;\" id=\"5de70468-d3db-4fd0-bc28-022fc5d4b2d1\">\n",
       "import seaborn as sns\n",
       "import matplotlib.pyplot as plt\n",
       "\n",
       "# Get the numerical columns from the dataframe\n",
       "df_num = df[['artist_count', 'released_year', 'released_month', 'released_day', 'in_spotify_playlists', 'in_spotify_charts', 'streams', 'in_apple_playlists', 'in_apple_charts', 'in_deezer_playlists', 'in_deezer_charts', 'in_shazam_charts', 'bpm', 'danceability_%', 'valence_%', 'energy_%', 'acousticness_%', 'instrumentalness_%', 'liveness_%', 'speechiness_%']]\n",
       "\n",
       "# Generate a correlation matrix\n",
       "corr = df_num.corr()\n",
       "\n",
       "# Generate a heatmap using the correlation matrix\n",
       "sns.heatmap(corr, xticklabels=corr.columns, yticklabels=corr.columns, annot=True)\n",
       "plt.show()\n",
       "</pre>\n",
       "                <button style=\"height: fit-content;\" onclick=\"navigator.clipboard.writeText(JSON.parse(atob(`IlxuaW1wb3J0IHNlYWJvcm4gYXMgc25zXG5pbXBvcnQgbWF0cGxvdGxpYi5weXBsb3QgYXMgcGx0XG5cbiMgR2V0IHRoZSBudW1lcmljYWwgY29sdW1ucyBmcm9tIHRoZSBkYXRhZnJhbWVcbmRmX251bSA9IGRmW1snYXJ0aXN0X2NvdW50JywgJ3JlbGVhc2VkX3llYXInLCAncmVsZWFzZWRfbW9udGgnLCAncmVsZWFzZWRfZGF5JywgJ2luX3Nwb3RpZnlfcGxheWxpc3RzJywgJ2luX3Nwb3RpZnlfY2hhcnRzJywgJ3N0cmVhbXMnLCAnaW5fYXBwbGVfcGxheWxpc3RzJywgJ2luX2FwcGxlX2NoYXJ0cycsICdpbl9kZWV6ZXJfcGxheWxpc3RzJywgJ2luX2RlZXplcl9jaGFydHMnLCAnaW5fc2hhemFtX2NoYXJ0cycsICdicG0nLCAnZGFuY2VhYmlsaXR5XyUnLCAndmFsZW5jZV8lJywgJ2VuZXJneV8lJywgJ2Fjb3VzdGljbmVzc18lJywgJ2luc3RydW1lbnRhbG5lc3NfJScsICdsaXZlbmVzc18lJywgJ3NwZWVjaGluZXNzXyUnXV1cblxuIyBHZW5lcmF0ZSBhIGNvcnJlbGF0aW9uIG1hdHJpeFxuY29yciA9IGRmX251bS5jb3JyKClcblxuIyBHZW5lcmF0ZSBhIGhlYXRtYXAgdXNpbmcgdGhlIGNvcnJlbGF0aW9uIG1hdHJpeFxuc25zLmhlYXRtYXAoY29yciwgeHRpY2tsYWJlbHM9Y29yci5jb2x1bW5zLCB5dGlja2xhYmVscz1jb3JyLmNvbHVtbnMsIGFubm90PVRydWUpXG5wbHQuc2hvdygpXG4i`)))\">Copy</button>\n",
       "                </div>"
      ],
      "text/plain": [
       "<IPython.core.display.HTML object>"
      ]
     },
     "metadata": {},
     "output_type": "display_data"
    }
   ],
   "source": [
    "# How to find correlation for numerical columns\n",
    "df.sketch.howto(\"analyze the correlation using heatmap for the numerical columns in the dataset\")"
   ]
  },
  {
   "cell_type": "code",
   "execution_count": 22,
   "metadata": {},
   "outputs": [
    {
     "data": {
      "text/html": [
       "<div style=\"display:flex;flex-direction:row;justify-content:space-between;\">\n",
       "                <pre style=\"width: 100%; white-space: pre-wrap;\" id=\"0f7e08e8-9e9e-45a3-9320-60f56e9c79a0\">\n",
       "# Get the top 5 artists by streams\n",
       "top_5_artists = df.sort_values(by='streams', ascending=False).head(5)\n",
       "\n",
       "# Plot the top 5 artists by streams\n",
       "ax = top_5_artists.plot.bar(x='artist(s)_name', y='streams', rot=0, figsize=(10,6))\n",
       "ax.set_title('Top 5 Artists by Streams')\n",
       "ax.set_xlabel('Artist Name')\n",
       "ax.set_ylabel('Streams')\n",
       "</pre>\n",
       "                <button style=\"height: fit-content;\" onclick=\"navigator.clipboard.writeText(JSON.parse(atob(`IlxuIyBHZXQgdGhlIHRvcCA1IGFydGlzdHMgYnkgc3RyZWFtc1xudG9wXzVfYXJ0aXN0cyA9IGRmLnNvcnRfdmFsdWVzKGJ5PSdzdHJlYW1zJywgYXNjZW5kaW5nPUZhbHNlKS5oZWFkKDUpXG5cbiMgUGxvdCB0aGUgdG9wIDUgYXJ0aXN0cyBieSBzdHJlYW1zXG5heCA9IHRvcF81X2FydGlzdHMucGxvdC5iYXIoeD0nYXJ0aXN0KHMpX25hbWUnLCB5PSdzdHJlYW1zJywgcm90PTAsIGZpZ3NpemU9KDEwLDYpKVxuYXguc2V0X3RpdGxlKCdUb3AgNSBBcnRpc3RzIGJ5IFN0cmVhbXMnKVxuYXguc2V0X3hsYWJlbCgnQXJ0aXN0IE5hbWUnKVxuYXguc2V0X3lsYWJlbCgnU3RyZWFtcycpXG4i`)))\">Copy</button>\n",
       "                </div>"
      ],
      "text/plain": [
       "<IPython.core.display.HTML object>"
      ]
     },
     "metadata": {},
     "output_type": "display_data"
    }
   ],
   "source": [
    "# How to find Top 5 artists by Streams\n",
    "df.sketch.howto(\"Visualize Top 5 Artists by Streams\")"
   ]
  },
  {
   "cell_type": "code",
   "execution_count": 23,
   "metadata": {},
   "outputs": [
    {
     "data": {
      "text/html": [
       "<div style=\"display:flex;flex-direction:row;justify-content:space-between;\">\n",
       "                <pre style=\"width: 100%; white-space: pre-wrap;\" id=\"87bc02d0-1b2e-4e90-b78f-894de1d0f2d3\">\n",
       "# Get the top 5 track names by streams\n",
       "top_5_tracks = df.sort_values(by='streams', ascending=False).head()['track_name']\n",
       "\n",
       "# Visualize the top 5 track names by streams\n",
       "import matplotlib.pyplot as plt\n",
       "plt.bar(top_5_tracks, df.sort_values(by='streams', ascending=False).head()['streams'])\n",
       "plt.title('Top 5 Track Names by Streams')\n",
       "plt.xlabel('Track Name')\n",
       "plt.ylabel('Streams')\n",
       "plt.show()\n",
       "</pre>\n",
       "                <button style=\"height: fit-content;\" onclick=\"navigator.clipboard.writeText(JSON.parse(atob(`IlxuIyBHZXQgdGhlIHRvcCA1IHRyYWNrIG5hbWVzIGJ5IHN0cmVhbXNcbnRvcF81X3RyYWNrcyA9IGRmLnNvcnRfdmFsdWVzKGJ5PSdzdHJlYW1zJywgYXNjZW5kaW5nPUZhbHNlKS5oZWFkKClbJ3RyYWNrX25hbWUnXVxuXG4jIFZpc3VhbGl6ZSB0aGUgdG9wIDUgdHJhY2sgbmFtZXMgYnkgc3RyZWFtc1xuaW1wb3J0IG1hdHBsb3RsaWIucHlwbG90IGFzIHBsdFxucGx0LmJhcih0b3BfNV90cmFja3MsIGRmLnNvcnRfdmFsdWVzKGJ5PSdzdHJlYW1zJywgYXNjZW5kaW5nPUZhbHNlKS5oZWFkKClbJ3N0cmVhbXMnXSlcbnBsdC50aXRsZSgnVG9wIDUgVHJhY2sgTmFtZXMgYnkgU3RyZWFtcycpXG5wbHQueGxhYmVsKCdUcmFjayBOYW1lJylcbnBsdC55bGFiZWwoJ1N0cmVhbXMnKVxucGx0LnNob3coKVxuIg==`)))\">Copy</button>\n",
       "                </div>"
      ],
      "text/plain": [
       "<IPython.core.display.HTML object>"
      ]
     },
     "metadata": {},
     "output_type": "display_data"
    }
   ],
   "source": [
    "# How to find Top 5 Track Names by Streams\n",
    "df.sketch.howto(\"Visualize Top 5 Track Names by Streams\")"
   ]
  },
  {
   "cell_type": "code",
   "execution_count": 24,
   "metadata": {},
   "outputs": [
    {
     "data": {
      "text/html": [
       "<div style=\"display:flex;flex-direction:row;justify-content:space-between;\">\n",
       "                <pre style=\"width: 100%; white-space: pre-wrap;\" id=\"4600bca4-b5c9-4132-9012-5cee5e2780b0\">\n",
       "import matplotlib.pyplot as plt\n",
       "\n",
       "# Get the data from the dataframe\n",
       "danceability = df['danceability_%']\n",
       "energy = df['energy_%']\n",
       "\n",
       "# Create a scatter plot of the data\n",
       "plt.scatter(danceability, energy)\n",
       "plt.xlabel('Danceability (%)')\n",
       "plt.ylabel('Energy (%)')\n",
       "plt.title('Relationship between Danceability and Energy')\n",
       "plt.show()\n",
       "</pre>\n",
       "                <button style=\"height: fit-content;\" onclick=\"navigator.clipboard.writeText(JSON.parse(atob(`IlxuaW1wb3J0IG1hdHBsb3RsaWIucHlwbG90IGFzIHBsdFxuXG4jIEdldCB0aGUgZGF0YSBmcm9tIHRoZSBkYXRhZnJhbWVcbmRhbmNlYWJpbGl0eSA9IGRmWydkYW5jZWFiaWxpdHlfJSddXG5lbmVyZ3kgPSBkZlsnZW5lcmd5XyUnXVxuXG4jIENyZWF0ZSBhIHNjYXR0ZXIgcGxvdCBvZiB0aGUgZGF0YVxucGx0LnNjYXR0ZXIoZGFuY2VhYmlsaXR5LCBlbmVyZ3kpXG5wbHQueGxhYmVsKCdEYW5jZWFiaWxpdHkgKCUpJylcbnBsdC55bGFiZWwoJ0VuZXJneSAoJSknKVxucGx0LnRpdGxlKCdSZWxhdGlvbnNoaXAgYmV0d2VlbiBEYW5jZWFiaWxpdHkgYW5kIEVuZXJneScpXG5wbHQuc2hvdygpXG4i`)))\">Copy</button>\n",
       "                </div>"
      ],
      "text/plain": [
       "<IPython.core.display.HTML object>"
      ]
     },
     "metadata": {},
     "output_type": "display_data"
    }
   ],
   "source": [
    "# How to see relationship between danceability and energy \n",
    "df.sketch.howto(\"visualize the relationship between danceability and energy of the tracks\")"
   ]
  },
  {
   "cell_type": "code",
   "execution_count": 25,
   "metadata": {},
   "outputs": [
    {
     "data": {
      "text/html": [
       "<div style=\"display:flex;flex-direction:row;justify-content:space-between;\">\n",
       "                <pre style=\"width: 100%; white-space: pre-wrap;\" id=\"f89d3571-b6ec-41ef-aa0e-61087a7411bc\">\n",
       "# Create a subset of the dataframe with only the releases from 2022\n",
       "df_2022 = df[df['released_year'] == 2022]\n",
       "\n",
       "# Plot the number of releases in 2022 using a lineplot\n",
       "ax = df_2022.groupby('released_month').count()['track_name'].plot(kind='line', title='Number of Releases in 2022')\n",
       "ax.set_xlabel('Month')\n",
       "ax.set_ylabel('Number of Releases')\n",
       "</pre>\n",
       "                <button style=\"height: fit-content;\" onclick=\"navigator.clipboard.writeText(JSON.parse(atob(`IlxuIyBDcmVhdGUgYSBzdWJzZXQgb2YgdGhlIGRhdGFmcmFtZSB3aXRoIG9ubHkgdGhlIHJlbGVhc2VzIGZyb20gMjAyMlxuZGZfMjAyMiA9IGRmW2RmWydyZWxlYXNlZF95ZWFyJ10gPT0gMjAyMl1cblxuIyBQbG90IHRoZSBudW1iZXIgb2YgcmVsZWFzZXMgaW4gMjAyMiB1c2luZyBhIGxpbmVwbG90XG5heCA9IGRmXzIwMjIuZ3JvdXBieSgncmVsZWFzZWRfbW9udGgnKS5jb3VudCgpWyd0cmFja19uYW1lJ10ucGxvdChraW5kPSdsaW5lJywgdGl0bGU9J051bWJlciBvZiBSZWxlYXNlcyBpbiAyMDIyJylcbmF4LnNldF94bGFiZWwoJ01vbnRoJylcbmF4LnNldF95bGFiZWwoJ051bWJlciBvZiBSZWxlYXNlcycpXG4i`)))\">Copy</button>\n",
       "                </div>"
      ],
      "text/plain": [
       "<IPython.core.display.HTML object>"
      ]
     },
     "metadata": {},
     "output_type": "display_data"
    }
   ],
   "source": [
    "# How to plot number of songs releases in 2022\n",
    "df.sketch.howto(\"Visualize the number of releases in 2022 using lineplot\")"
   ]
  },
  {
   "cell_type": "code",
   "execution_count": 26,
   "metadata": {},
   "outputs": [
    {
     "data": {
      "text/html": [
       "<div style=\"display:flex;flex-direction:row;justify-content:space-between;\">\n",
       "                <pre style=\"width: 100%; white-space: pre-wrap;\" id=\"1cca4c75-5f2d-4e62-9d6b-d15f52c75347\">\n",
       "# Get the counts of tracks in Major and Minor modes\n",
       "mode_counts = df['mode'].value_counts()\n",
       "\n",
       "# Plot the proportion of tracks in Major and Minor modes\n",
       "ax = mode_counts.plot(kind='bar', title='Proportion of Tracks in Major and Minor Modes')\n",
       "ax.set_xlabel('Mode')\n",
       "ax.set_ylabel('Count')\n",
       "</pre>\n",
       "                <button style=\"height: fit-content;\" onclick=\"navigator.clipboard.writeText(JSON.parse(atob(`IlxuIyBHZXQgdGhlIGNvdW50cyBvZiB0cmFja3MgaW4gTWFqb3IgYW5kIE1pbm9yIG1vZGVzXG5tb2RlX2NvdW50cyA9IGRmWydtb2RlJ10udmFsdWVfY291bnRzKClcblxuIyBQbG90IHRoZSBwcm9wb3J0aW9uIG9mIHRyYWNrcyBpbiBNYWpvciBhbmQgTWlub3IgbW9kZXNcbmF4ID0gbW9kZV9jb3VudHMucGxvdChraW5kPSdiYXInLCB0aXRsZT0nUHJvcG9ydGlvbiBvZiBUcmFja3MgaW4gTWFqb3IgYW5kIE1pbm9yIE1vZGVzJylcbmF4LnNldF94bGFiZWwoJ01vZGUnKVxuYXguc2V0X3lsYWJlbCgnQ291bnQnKVxuIg==`)))\">Copy</button>\n",
       "                </div>"
      ],
      "text/plain": [
       "<IPython.core.display.HTML object>"
      ]
     },
     "metadata": {},
     "output_type": "display_data"
    }
   ],
   "source": [
    "# How to see the proportion in Major and Minor modes\n",
    "df.sketch.howto(\"Visualize the proportion of tracks in Major and Minor modes\")"
   ]
  }
 ],
 "metadata": {
  "kernelspec": {
   "display_name": "Python 3",
   "language": "python",
   "name": "python3"
  },
  "language_info": {
   "codemirror_mode": {
    "name": "ipython",
    "version": 3
   },
   "file_extension": ".py",
   "mimetype": "text/x-python",
   "name": "python",
   "nbconvert_exporter": "python",
   "pygments_lexer": "ipython3",
   "version": "3.11.4"
  },
  "orig_nbformat": 4
 },
 "nbformat": 4,
 "nbformat_minor": 2
}
